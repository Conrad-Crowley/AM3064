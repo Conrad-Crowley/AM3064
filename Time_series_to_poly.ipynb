{
 "cells": [
  {
   "cell_type": "code",
   "execution_count": 30,
   "id": "aggregate-charity",
   "metadata": {},
   "outputs": [],
   "source": [
    "import numpy as np\n",
    "from sklearn.metrics import r2_score\n"
   ]
  },
  {
   "cell_type": "code",
   "execution_count": 53,
   "id": "fifteen-glucose",
   "metadata": {},
   "outputs": [],
   "source": [
    "def timeSeries2Poly(series, degree, corr = True):\n",
    "    ''' \n",
    "    Interpolates to a degree-polynomial. Prints correllation when called.\n",
    "    \n",
    "    input: series : list : y-values\n",
    "           degree : int : degree of interpolation\n",
    "           corr (optional default = True) : bool : print r2 \n",
    "    output:\n",
    "           poly : poly1d type numpy polynomial of interpretation\n",
    "    '''\n",
    "    # Python 3 makes range not return a list anymore, conversion is needed\n",
    "    t = list(range(len(series)))\n",
    "    # fit polynomial\n",
    "    poly = np.poly1d(np.polyfit(t, series, degree))\n",
    "    if corr:\n",
    "        print(r2_score(y, poly(x)))\n",
    "    return poly"
   ]
  },
  {
   "cell_type": "code",
   "execution_count": 55,
   "id": "concrete-franchise",
   "metadata": {},
   "outputs": [
    {
     "name": "stdout",
     "output_type": "stream",
     "text": [
      "0.5843552955619105\n"
     ]
    }
   ],
   "source": [
    "# our parameter for f(mu, t)\n",
    "mu = list(timeSeries2Poly(y,5))\n",
    "# TODO: figure out why de"
   ]
  }
 ],
 "metadata": {
  "kernelspec": {
   "display_name": "Python 3",
   "language": "python",
   "name": "python3"
  },
  "language_info": {
   "codemirror_mode": {
    "name": "ipython",
    "version": 3
   },
   "file_extension": ".py",
   "mimetype": "text/x-python",
   "name": "python",
   "nbconvert_exporter": "python",
   "pygments_lexer": "ipython3",
   "version": "3.8.5"
  }
 },
 "nbformat": 4,
 "nbformat_minor": 5
}
